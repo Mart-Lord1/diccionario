{
  "cells": [
    {
      "cell_type": "markdown",
      "metadata": {
        "id": "VRaTOSe3nlTW"
      },
      "source": [
        "## Ejercicio\n",
        "\n",
        "Escribir un programa que guarde en una variable el diccionario `{'Euro':'€', 'Dollar':'$', 'Yen':'¥'}`, pregunte al usuario por una divisa y muestre su símbolo o un mensaje de aviso si la divisa no está en el diccionario."
      ]
    },
    {
      "cell_type": "markdown",
      "metadata": {
        "id": "3fzslZ0ynlTb"
      },
      "source": [
        "## Solución 1"
      ]
    },
    {
      "cell_type": "code",
      "execution_count": 6,
      "metadata": {
        "id": "wsfdcWkwnlTc"
      },
      "outputs": [
        {
          "name": "stdout",
          "output_type": "stream",
          "text": [
            "si esta:  ['$']\n"
          ]
        }
      ],
      "source": [
        "monedas = {'Euro':'€', 'Dollar':'$', 'Yen':'¥'}\n",
        "moneda = input(\"intrude la divisa deseada: \")\n",
        "\n",
        "if moneda in monedas:\n",
        "    print(\"si esta: \", [monedas[moneda]])\n",
        "else:\n",
        "    print(\"no esta\")"
      ]
    },
    {
      "cell_type": "markdown",
      "metadata": {
        "id": "dlndGC4_nlTf"
      },
      "source": [
        "## Solución 2\n"
      ]
    },
    {
      "cell_type": "code",
      "execution_count": 8,
      "metadata": {
        "id": "wPrZFjHvnlTg",
        "outputId": "543a05f6-42ef-4f5b-9041-e5feab8bbf88"
      },
      "outputs": [
        {
          "name": "stdout",
          "output_type": "stream",
          "text": [
            "€\n"
          ]
        }
      ],
      "source": [
        "monedas = {'Euro':'€', 'Dollar':'$', 'Yen':'¥'}\n",
        "moneda = input(\"Introduce una divisa: \")\n",
        "if moneda.title() in monedas:\n",
        "    print(monedas[moneda.title()])\n",
        "else:\n",
        "    print(\"La divisa no está.\")"
      ]
    }
  ],
  "metadata": {
    "colab": {
      "provenance": []
    },
    "kernelspec": {
      "display_name": "Python 3",
      "language": "python",
      "name": "python3"
    },
    "language_info": {
      "codemirror_mode": {
        "name": "ipython",
        "version": 3
      },
      "file_extension": ".py",
      "mimetype": "text/x-python",
      "name": "python",
      "nbconvert_exporter": "python",
      "pygments_lexer": "ipython3",
      "version": "3.13.7"
    }
  },
  "nbformat": 4,
  "nbformat_minor": 0
}
