{
  "cells": [
    {
      "cell_type": "markdown",
      "metadata": {
        "id": "VIIuTs8-n3cs"
      },
      "source": [
        "## Ejercicio\n",
        "\n",
        "Escribir un programa que pregunte al usuario su nombre, edad, dirección y teléfono y lo guarde en un diccionario. Despúes debe mostrar por pantalla el mensaje `<nombre> tiene <edad> años, vive en <dirección> y su número de teléfono es <teléfono>`.\n"
      ]
    },
    {
      "cell_type": "markdown",
      "metadata": {
        "id": "NnKHehoin3cv"
      },
      "source": [
        "## Solución"
      ]
    },
    {
      "cell_type": "code",
      "execution_count": 11,
      "metadata": {
        "id": "TZ8nhX8Sn3cw"
      },
      "outputs": [
        {
          "name": "stdout",
          "output_type": "stream",
          "text": [
            "{'nombre': 'Martín', 'edad': '21', 'dirección': 'Bowen', 'telefono': '2617072265'}\n"
          ]
        }
      ],
      "source": [
        "nombre = input(\"inserte su nombre: \")\n",
        "edad = input(\"inserte su edad: \")\n",
        "dirección = input(\"inserte su dirección: \")\n",
        "telefono = input(\"inserte su telefono: \")\n",
        "\n",
        "datos = {\n",
        "    \"nombre\": nombre,\n",
        "    \"edad\": edad,\n",
        "    \"dirección\": dirección,\n",
        "    \"telefono\" : telefono\n",
        "}\n",
        "\n",
        "print(datos)"
      ]
    }
  ],
  "metadata": {
    "colab": {
      "provenance": []
    },
    "kernelspec": {
      "display_name": "Python 3",
      "language": "python",
      "name": "python3"
    },
    "language_info": {
      "codemirror_mode": {
        "name": "ipython",
        "version": 3
      },
      "file_extension": ".py",
      "mimetype": "text/x-python",
      "name": "python",
      "nbconvert_exporter": "python",
      "pygments_lexer": "ipython3",
      "version": "3.13.7"
    }
  },
  "nbformat": 4,
  "nbformat_minor": 0
}
