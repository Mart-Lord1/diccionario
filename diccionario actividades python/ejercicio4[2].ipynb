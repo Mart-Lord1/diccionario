{
  "cells": [
    {
      "cell_type": "markdown",
      "metadata": {
        "id": "T5o6Ls8LoKzb"
      },
      "source": [
        "## Ejercicio\n",
        "\n",
        "Escribir un programa que pregunte una fecha en formato `dd/mm/aaaa` y muestre por pantalla la misma fecha en formato `dd de <mes> de aaaa` donde `<mes>` es el nombre del mes."
      ]
    },
    {
      "cell_type": "markdown",
      "metadata": {
        "id": "AOj6XGweoKzd"
      },
      "source": [
        "## Solución"
      ]
    },
    {
      "cell_type": "code",
      "execution_count": 2,
      "metadata": {
        "id": "mek1lQoAoKze"
      },
      "outputs": [
        {
          "name": "stdout",
          "output_type": "stream",
          "text": [
            "12 de diciembre de 2003\n"
          ]
        }
      ],
      "source": [
        "from datetime import datetime\n",
        "\n",
        "meses = {1:'enero', 2:'febrero', 3:'marzo', 4:'abril', 5:'mayo', 6:'junio', 7:'julio', 8:'agosto', 9:'septiembre', 10:'octubre', 11:'noviembre', 12:'diciembre'}\n",
        "\n",
        "cadena_fecha = input(\"ingrese la fecha en formato dd/mm/aaaa: \")\n",
        "\n",
        "fecha_obj = datetime.strptime(cadena_fecha, '%d/%m/%Y')\n",
        "\n",
        "dia = fecha_obj.day\n",
        "mes_num = fecha_obj.month\n",
        "año = fecha_obj.year\n",
        "\n",
        "nombre_mes = meses[mes_num]\n",
        "\n",
        "print(f\"{dia} de {nombre_mes} de {año}\")\n",
        "\n"
      ]
    }
  ],
  "metadata": {
    "colab": {
      "provenance": []
    },
    "kernelspec": {
      "display_name": "Python 3",
      "language": "python",
      "name": "python3"
    },
    "language_info": {
      "codemirror_mode": {
        "name": "ipython",
        "version": 3
      },
      "file_extension": ".py",
      "mimetype": "text/x-python",
      "name": "python",
      "nbconvert_exporter": "python",
      "pygments_lexer": "ipython3",
      "version": "3.13.7"
    }
  },
  "nbformat": 4,
  "nbformat_minor": 0
}
