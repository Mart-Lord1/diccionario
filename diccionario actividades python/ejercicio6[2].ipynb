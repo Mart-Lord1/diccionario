{
  "cells": [
    {
      "cell_type": "markdown",
      "metadata": {
        "id": "y3CzbCp9o37L"
      },
      "source": [
        "## Ejercicio\n",
        "\n",
        "Escribir un programa que cree un diccionario vacío y lo vaya llenado con información sobre una persona (por ejemplo nombre, edad, sexo, teléfono, correo electrónico, etc.) que se le pida al usuario. Cada vez que se añada un nuevo dato debe imprimirse el contenido del diccionario."
      ]
    },
    {
      "cell_type": "markdown",
      "metadata": {
        "id": "KQ1cZgk3o37N"
      },
      "source": [
        "## Solución"
      ]
    },
    {
      "cell_type": "code",
      "execution_count": 13,
      "metadata": {
        "id": "0kvJQs2Fo37O"
      },
      "outputs": [
        {
          "name": "stdout",
          "output_type": "stream",
          "text": [
            "{'nombre': 'martin', 'edad': '21', 'sexo': 'masculino', 'teléfono': '2617072265', 'correo_electronico': 'martinaleortizb@gmail.com'}\n"
          ]
        }
      ],
      "source": [
        "\n",
        "# actividad:Escribir un programa que cree un diccionario vacío y lo vaya llenado con información sobre una persona (por ejemplo nombre, edad, sexo, teléfono, correo electrónico, etc.) que se le pida al usuario. Cada vez que se añada un nuevo dato debe imprimirse el contenido del diccionario.\n",
        "\n",
        "nombre = input(\"ingrese su nombre: \")\n",
        "edad = input(\"ingrese su edad: \")\n",
        "sexo = input(\"ingrese su sexo (masculino/femenino): \")\n",
        "teléfono = input(\"ingrese su numero de telefono: \")\n",
        "correo_electronico = input(\"ingrese su correo electronico: \")\n",
        "\n",
        "persona = {\n",
        "    \"nombre\": nombre,\n",
        "    \"edad\": edad,\n",
        "    \"sexo\": sexo,\n",
        "    \"teléfono\": teléfono,\n",
        "    \"correo_electronico\": correo_electronico\n",
        "}\n",
        "\n",
        "print(persona)\n",
        "\n"
      ]
    }
  ],
  "metadata": {
    "colab": {
      "provenance": []
    },
    "kernelspec": {
      "display_name": "Python 3",
      "language": "python",
      "name": "python3"
    },
    "language_info": {
      "codemirror_mode": {
        "name": "ipython",
        "version": 3
      },
      "file_extension": ".py",
      "mimetype": "text/x-python",
      "name": "python",
      "nbconvert_exporter": "python",
      "pygments_lexer": "ipython3",
      "version": "3.13.7"
    }
  },
  "nbformat": 4,
  "nbformat_minor": 0
}
