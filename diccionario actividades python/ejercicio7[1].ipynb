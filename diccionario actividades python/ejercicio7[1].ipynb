{
  "cells": [
    {
      "cell_type": "markdown",
      "metadata": {
        "id": "hjqfFqIbpD4k"
      },
      "source": [
        "## Ejercicio\n",
        "\n",
        "Escribir un programa que cree un diccionario simulando una cesta de la compra. El programa debe preguntar el artículo y su precio y añadir el par al diccionario, hasta que el usuario decida terminar. Después se debe mostrar por pantalla la lista de la compra y el coste total, con el siguiente formato\n",
        "\n",
        "|Lista de la compra| |\n",
        "|:-|-:|\n",
        "|Artículo 1 | Precio|\n",
        "|Artículo 2 | Precio|\n",
        "|Artículo 3 | Precio|\n",
        "|...| ...|\n",
        "|Total| Coste|\n"
      ]
    },
    {
      "cell_type": "markdown",
      "metadata": {
        "id": "n7UaguqfpD4m"
      },
      "source": [
        "## Solución"
      ]
    },
    {
      "cell_type": "code",
      "execution_count": 9,
      "metadata": {
        "id": "MO75qrZApD4n"
      },
      "outputs": [
        {
          "name": "stdout",
          "output_type": "stream",
          "text": [
            "\n",
            "|Lista de la compra| |\n",
            "|artuclo|compra|\n",
            "|carne_molida | 9000.0|\n",
            "|pan | 2500.0|\n",
            "|caja_de_jugos | 4500.0|\n",
            "|carne_de_cerdo | 9800.0|\n",
            "|Total| 25800.0|\n"
          ]
        }
      ],
      "source": [
        "compra = {}\n",
        "\n",
        "while True:\n",
        "    articulo = input(\"ingrese el articulo o fin para terminar: \")\n",
        "    if articulo == \"fin\":\n",
        "        break\n",
        "    precio = float(input(\"Ingrese precio: \"))\n",
        "    compra[articulo] = precio   # guarda el artículo y su precio\n",
        "    \n",
        "print(\"\\n|Lista de la compra| |\") #imprimir la tabla\n",
        "print(\"|artuclo|compra|\")\n",
        "\n",
        "total = 0\n",
        "for articulo, precio in compra.items():\n",
        "    print(f\"|{articulo} | {precio}|\")   #  muestra cada artículo y precio\n",
        "    total = sum(compra.values())            #  acumula el precio en el total\n",
        "\n",
        "\n",
        "print(f\"|Total| {total}|\" )  #Imprimir el total"
      ]
    }
  ],
  "metadata": {
    "colab": {
      "provenance": []
    },
    "kernelspec": {
      "display_name": "Python 3",
      "language": "python",
      "name": "python3"
    },
    "language_info": {
      "codemirror_mode": {
        "name": "ipython",
        "version": 3
      },
      "file_extension": ".py",
      "mimetype": "text/x-python",
      "name": "python",
      "nbconvert_exporter": "python",
      "pygments_lexer": "ipython3",
      "version": "3.13.7"
    }
  },
  "nbformat": 4,
  "nbformat_minor": 0
}
