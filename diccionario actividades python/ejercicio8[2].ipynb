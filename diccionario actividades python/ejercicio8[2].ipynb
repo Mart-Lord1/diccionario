{
  "cells": [
    {
      "cell_type": "markdown",
      "metadata": {
        "id": "JFtnnr6UpMC4"
      },
      "source": [
        "## Ejercicio\n",
        "\n",
        "Escribir un programa que cree un diccionario de traducción español-inglés. El usuario introducirá las palabras en español e inglés separadas por dos puntos, y cada par `<palabra>:<traducción>` separados por comas. El programa debe crear un diccionario con las palabras y sus traducciones. Después pedirá una frase en español y utilizará el diccionario para traducirla palabra a palabra. Si una palabra no está en el diccionario debe dejarla sin traducir."
      ]
    },
    {
      "cell_type": "markdown",
      "metadata": {
        "id": "H1kdaQNypMC8"
      },
      "source": [
        "## Solución"
      ]
    },
    {
      "cell_type": "code",
      "execution_count": 9,
      "metadata": {
        "id": "5Zt5A645pMC9"
      },
      "outputs": [
        {
          "name": "stdout",
          "output_type": "stream",
          "text": [
            "hola : hello\n"
          ]
        }
      ],
      "source": [
        "# Pedimos al usuario que escriba las palabras separadas por comas en formato español:inglés\n",
        "entrada = input(\"Palabras (es:en, separadas por comas): \")\n",
        "\n",
        "# Creamos un diccionario a partir de la entrada\n",
        "# - entrada.split(\",\") separa cada par por coma -> [\"hola:hello\", \"mundo:world\"]\n",
        "# - par.split(\":\") separa cada par en dos -> [\"hola\", \"hello\"]\n",
        "# - dict(...) convierte la lista de pares en un diccionario -> {\"hola\":\"hello\", \"mundo\":\"world\"}\n",
        "diccionario = dict(par.split(\":\") for par in entrada.split(\",\"))\n",
        "\n",
        "# Pedimos una frase en español para traducir\n",
        "frase = input(\"Frase en español: \")\n",
        "\n",
        "# Traducción palabra por palabra:\n",
        "# - frase.split() separa la frase en palabras\n",
        "# - diccionario.get(pal, pal) busca la traducción de cada palabra;\n",
        "#   si no existe en el diccionario, deja la misma palabra (segundo argumento \"pal\")\n",
        "# - \" \".join(...) junta todas las palabras traducidas en una sola cadena, separadas por espacios\n",
        "print(\" \".join(diccionario.get(pal, pal) for pal in frase.split()))\n"
      ]
    }
  ],
  "metadata": {
    "colab": {
      "provenance": []
    },
    "kernelspec": {
      "display_name": "Python 3",
      "language": "python",
      "name": "python3"
    },
    "language_info": {
      "codemirror_mode": {
        "name": "ipython",
        "version": 3
      },
      "file_extension": ".py",
      "mimetype": "text/x-python",
      "name": "python",
      "nbconvert_exporter": "python",
      "pygments_lexer": "ipython3",
      "version": "3.13.7"
    }
  },
  "nbformat": 4,
  "nbformat_minor": 0
}
