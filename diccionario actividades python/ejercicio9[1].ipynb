{
  "cells": [
    {
      "cell_type": "markdown",
      "metadata": {
        "id": "WJmKe3okpUAT"
      },
      "source": [
        "## Ejercicio\n",
        "\n",
        "Escribir un programa que gestione las facturas pendientes de cobro de una empresa. Las facturas se almacenarán en un diccionario donde la clave de cada factura será el número de factura y el valor el coste de la factura. El programa debe preguntar al usuario si quiere añadir una nueva factura, pagar una existente o terminar. Si desea añadir una nueva factura se preguntará por el número de factura y su coste y se añadirá al diccionario. Si se desea pagar una factura se preguntará por el número de factura y se eliminará del diccionario. Después de cada operación el programa debe mostrar por pantalla la cantidad cobrada hasta el momento y la cantidad pendiente de cobro."
      ]
    },
    {
      "cell_type": "markdown",
      "metadata": {
        "id": "UeBtqGV4pUAW"
      },
      "source": [
        "## Solución"
      ]
    },
    {
      "cell_type": "code",
      "execution_count": 1,
      "metadata": {
        "id": "kqH4iXalpUAX"
      },
      "outputs": [
        {
          "name": "stdout",
          "output_type": "stream",
          "text": [
            "Total cobrado: 0\n",
            "Pendiente de cobro: 7900.0\n",
            "Total cobrado: 7900.0\n",
            "Pendiente de cobro: 0.0\n"
          ]
        }
      ],
      "source": [
        "# Diccionario para guardar las facturas\n",
        "# clave = número de factura, valor = coste\n",
        "facturas = {}\n",
        "\n",
        "# Variables para llevar la cuenta\n",
        "cobrado = 0       # dinero ya cobrado\n",
        "pendiente = 0     # dinero pendiente de cobro\n",
        "\n",
        "while True:\n",
        "    # Preguntamos al usuario la acción\n",
        "    opcion = input(\"\\n¿Qué deseas hacer? (añadir/pagar/terminar): \").lower()\n",
        "\n",
        "    if opcion == \"añadir\":\n",
        "        numero = input(\"Número de factura: \")\n",
        "        coste = float(input(\"Coste de la factura: \"))\n",
        "        facturas[numero] = coste\n",
        "        pendiente += coste\n",
        "\n",
        "    elif opcion == \"pagar\":\n",
        "        numero = input(\"Número de factura a pagar: \")\n",
        "        if numero in facturas:\n",
        "            coste = facturas.pop(numero)  # eliminamos la factura del diccionario\n",
        "            pendiente -= coste\n",
        "            cobrado += coste\n",
        "        else:\n",
        "            print(\" Esa factura no existe.\")\n",
        "\n",
        "    elif opcion == \"terminar\":\n",
        "        break\n",
        "\n",
        "    else:\n",
        "        print(\"⚠️ Opción no válida, escribe añadir/pagar/terminar.\")\n",
        "\n",
        "    # Mostrar el estado después de cada operación\n",
        "    print(f\"Total cobrado: {cobrado}\")\n",
        "    print(f\"Pendiente de cobro: {pendiente}\")\n"
      ]
    }
  ],
  "metadata": {
    "colab": {
      "provenance": []
    },
    "kernelspec": {
      "display_name": "Python 3",
      "language": "python",
      "name": "python3"
    },
    "language_info": {
      "codemirror_mode": {
        "name": "ipython",
        "version": 3
      },
      "file_extension": ".py",
      "mimetype": "text/x-python",
      "name": "python",
      "nbconvert_exporter": "python",
      "pygments_lexer": "ipython3",
      "version": "3.13.7"
    }
  },
  "nbformat": 4,
  "nbformat_minor": 0
}
